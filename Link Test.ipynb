{
    "metadata": {
        "kernelspec": {
            "name": "python3",
            "display_name": "Python 3.11",
            "language": "python"
        },
        "language_info": {
            "name": "python",
            "version": "3.11.9",
            "mimetype": "text/x-python",
            "codemirror_mode": {
                "name": "ipython",
                "version": 3
            },
            "pygments_lexer": "ipython3",
            "nbconvert_exporter": "python",
            "file_extension": ".py"
        }
    },
    "nbformat_minor": 4,
    "nbformat": 4,
    "cells": [
        {
            "cell_type": "code",
            "source": "print(\"Hello, watsonx\")",
            "metadata": {
                "id": "254afd21-b4ec-4dca-81d6-72f67c6900ff"
            },
            "outputs": [
                {
                    "name": "stdout",
                    "text": "Hello, watsonx\n",
                    "output_type": "stream"
                }
            ],
            "execution_count": 1
        },
        {
            "cell_type": "code",
            "source": "",
            "metadata": {
                "id": "dcf70f0b-2cbf-4a67-86cf-cfdde49b552a"
            },
            "outputs": [],
            "execution_count": null
        }
    ]
}